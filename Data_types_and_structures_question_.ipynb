{
  "nbformat": 4,
  "nbformat_minor": 0,
  "metadata": {
    "colab": {
      "provenance": []
    },
    "kernelspec": {
      "name": "python3",
      "display_name": "Python 3"
    },
    "language_info": {
      "name": "python"
    }
  },
  "cells": [
    {
      "cell_type": "code",
      "execution_count": null,
      "metadata": {
        "id": "pu8mW7f8zRGq"
      },
      "outputs": [],
      "source": [
        "# Data types and structures question."
      ]
    },
    {
      "cell_type": "markdown",
      "source": [
        "ques 1. What are data structures, and why are they important ?\n",
        "  \n",
        " ans - A data structure is a way of organizing and storing data so that it can be accessed and modified efficiently. It provides a systematic way to manage data for various operations like searching, sorting, inserting, deleting, and updating.\n",
        "\n",
        "Why Are Data Structures Important?\n",
        "\n",
        "1. Efficiency: Helps in optimizing data operations, making programs run faster and use less memory.\n",
        "\n",
        "\n",
        "2. Reusability: Can be used across different applications (e.g., trees in file systems, graphs in social networks).\n",
        "\n",
        "\n",
        "3. Scalability: Helps manage large data sets efficiently.\n",
        "\n",
        "\n",
        "4. Memory Management: Proper use of data structures prevents wastage of memory.\n",
        "\n",
        "\n",
        "5. Better Problem-Solving: Many real-world problems can be solved effectively using appropriate data structures."
      ],
      "metadata": {
        "id": "Tbuybddk0ON1"
      }
    },
    {
      "cell_type": "markdown",
      "source": [
        "   ques 2. Explain the difference between mutable and immutable data types with examples ?\n",
        "\n",
        "   ans - Mutable Data Types: Can be changed after creation without creating a new object. Examples: list, dict, set. Used when frequent modifications are needed.\n",
        "\n",
        "Immutable Data Types: Cannot be changed after creation; modifications create a new object. Examples: str, tuple, int. Used for data consistency and security.\n",
        "\n",
        "--->  Mutable Data Type Example (list)\n",
        "\n",
        "my_list = [1, 2, 3]\n",
        "print(my_list)  # Output: [1, 2, 3]\n",
        "\n",
        "my_list[0] = 10  # Modifying an element\n",
        "print(my_list)  # Output: [10, 2, 3]\n",
        "\n",
        " The list is changed without creating a new object.\n",
        "\n",
        " --->immutable Data Type Example (str)\n",
        "\n",
        "my_str = \"hello\"\n",
        "print(my_str)  # Output: hello\n",
        "\n",
        "my_str[0] = 'H'  # Trying to modify (Error)\n",
        "\n",
        " This will raise an error: TypeError: 'str' object does not support item assignment.\n",
        "\n",
        "\n"
      ],
      "metadata": {
        "id": "OEM07Ipf1zrr"
      }
    },
    {
      "cell_type": "markdown",
      "source": [
        "ques 3.  What are the main differences between lists and tuples in Python ?\n",
        "\n",
        "---> (list ) mutability  -list are mutable which can be modified\n",
        "\n",
        "   syntax - my _list =[1,2,3,]\n",
        "\n",
        "   performance -  slower due to dynamic nature.\n",
        "\n",
        "   memory usage - requires more memory\n",
        "\n",
        "   modification - supports adding , removing , and updating elements .\n",
        "\n",
        "   use case - suitable for dynamic data\n",
        "   \\\n",
        "\n",
        "   ---> ( tuples)  mutability - tuples are immutable which can not be modified\n",
        "\n",
        "   syntax - my _tuples =(1,2,3)\n",
        "\n",
        "performance - faster due to fixed size.\n",
        "\n",
        "memory usage  - uses less memory.\n",
        "\n",
        "modification - cannot be changed after creation .\n",
        "use case- best for fixed read -only data.\n"
      ],
      "metadata": {
        "id": "etRD2fzB4mpK"
      }
    },
    {
      "cell_type": "markdown",
      "source": [
        "ques 4. Describe how dictionaries store data ?\n",
        "\n",
        "A dictionary in Python is a data structure that stores data in key-value pairs. It allows fast access, modification, and retrieval of values using keys.\n",
        "\n",
        "Internal Storage Mechanism\n",
        "\n",
        "1. Hash Table: Python dictionaries use a hash table to store key-value pairs. A hash table is an array where each index (or bucket) stores a key-value pair.\n",
        "\n",
        "\n",
        "2. Hashing Function: When a key is added to the dictionary, Python applies a hash function to convert the key into a unique integer (hash value). This hash value determines the index where the key-value pair will be stored.\n",
        "\n",
        "\n",
        "3. Handling Collisions: If two keys generate the same hash (collision), Python handles it using open addressing or linked lists.\n",
        "\n",
        "\n",
        "4. Fast Lookup: When accessing a value using a key, Python directly finds its hash and retrieves the value in constant time O(1) in most cases.\n",
        "\n",
        "\n",
        "\n",
        "Example\n",
        "\n",
        "my_dict = {'name': 'Alice', 'age': 25, 'city': 'New York'}\n",
        "print(my_dict['name'])  # Output: Alice\n",
        "\n",
        "Here, 'name' is the key, and 'Alice' is the value. The dictionary stores this pair efficiently using a hash table.\n",
        "\n",
        "Advantages of Dictionaries\n",
        "\n",
        "   Fast data retrieval (O(1) average time complexity)\n",
        "\n",
        "   Flexible keys (strings, numbers, and even tuples can be used as keys)\n",
        "\n",
        "  Efficient memory management using dynamic resizing\n"
      ],
      "metadata": {
        "id": "MyNub_sP8_SU"
      }
    },
    {
      "cell_type": "markdown",
      "source": [
        "ques 5. Why might you use a set instead of a list in Python?\n",
        "\n",
        "1. Unique Elements: A set automatically removes duplicate values, whereas a list allows duplicates. If you need only unique items, a set is a better choice.\n",
        "\n",
        "\n",
        "2. Faster Lookups: Sets provide O(1) average time complexity for searching an element, while lists take O(n) time. If you need to check for the existence of elements frequently, a set is much more efficient.\n",
        "\n",
        "\n",
        "3. Unordered Collection: Unlike lists, sets do not maintain order. If order is not important, sets are preferable.\n",
        "\n",
        "\n",
        "4. Efficient Mathematical Operations: Sets support operations like union, intersection, and difference, making them useful for handling large datasets and comparisons.\n",
        "\n",
        "\n",
        "5. Memory Efficiency: Sets can be more memory-efficient than lists when storing large amounts of data due to their hash-based structure.\n"
      ],
      "metadata": {
        "id": "dsnWzkUI-BQP"
      }
    },
    {
      "cell_type": "markdown",
      "source": [
        "ques 6. What is a string in Python, and how is it different from a list?\n",
        "\n",
        "A string in Python is a sequence of characters enclosed in single ('), double (\"), or triple (''' or \"\"\") quotes. It is used to store and manipulate text data.\n",
        "\n",
        "A string in Python is an immutable sequence of characters, meaning its contents cannot be changed after creation, while a list is a mutable collection that can store elements of any data type and be modified dynamically. Strings are designed specifically for handling text and support methods like .split(), .replace(), and .join(), whereas lists provide operations like .append(), .pop(), and .sort(). Since strings are immutable, modifying them requires creating a new string, whereas lists allow in-place modifications, making them more flexible but also requiring more memory. Additionally, strings iterate character by character, whereas lists iterate over elements, which can be strings, numbers, or even other lists."
      ],
      "metadata": {
        "id": "GUPHqzeh-uch"
      }
    },
    {
      "cell_type": "markdown",
      "source": [
        "ques 7.How do tuples ensure data integrity in Python?\n",
        "\n",
        " ans -->Tuples ensure data integrity in Python through their immutability, meaning their contents cannot be modified, added, or removed after creation. This prevents accidental changes, making them ideal for storing fixed or constant data. Since tuples are hashable, they can be used as keys in dictionaries, ensuring reliable data referencing. Their fixed structure also enhances data consistency, as multiple parts of a program can safely rely on the same tuple without risk of unintended modifications. Additionally, tuples help in safe multi-threading by preventing race conditions, ensuring that data remains unchanged when accessed by multiple threads."
      ],
      "metadata": {
        "id": "MT6v39Vr_5lJ"
      }
    },
    {
      "cell_type": "markdown",
      "source": [
        "ques 8.What is a hash table, and how does it relate to dictionaries in Python?\n",
        "\n",
        "A hash table is a data structure that stores key-value pairs using a hashing function to map keys to unique memory locations (or indexes). It allows for fast data retrieval, insertion, and deletion, typically in O(1) time complexity in average cases.\n",
        "\n",
        "How Does It Relate to Dictionaries in Python?\n",
        "\n",
        "Python dictionaries are implemented using hash tables. When you create a dictionary, Python:\n",
        "\n",
        "1. Hashes the Key: It applies a hash function to generate a unique integer (hash value) for each key.\n",
        "\n",
        "\n",
        "2. Determines Storage Location: The hash value decides where the key-value pair will be stored in the hash table.\n",
        "\n",
        "\n",
        "3. Handles Collisions: If two keys produce the same hash (collision), Python resolves it using open addressing or linked lists.\n",
        "\n",
        "\n",
        "4. Allows Fast Lookup: When retrieving a value using a key, Python re-hashes the key and directly accesses the memory location, making lookups very fast.\n",
        "\n",
        "\n",
        "\n",
        "Example in Python\n",
        "\n",
        "my_dict = {'name': 'Alice', 'age': 25}\n",
        "print(my_dict['name'])  # Output: Alice\n",
        "\n",
        "Here, 'name' is hashed and mapped to a specific location in memory, enabling quick access.\n"
      ],
      "metadata": {
        "id": "r8elzckXBGHC"
      }
    },
    {
      "cell_type": "markdown",
      "source": [
        "ques 9.Can lists contain different data types in Python ?\n",
        "\n",
        " ans --> Yes, a list in Python can contain different data types. Unlike arrays in some programming languages that store only one data type, Python lists are heterogeneous, meaning they can store elements of various types, including integers, floats, strings, booleans, other lists, dictionaries, and even functions.\n",
        "\n",
        "Example\n",
        "\n",
        "my_list = [10, \"hello\", 3.14, True, [1, 2, 3], {\"key\": \"value\"}]\n",
        "print(my_list)\n",
        "\n",
        "Output\n",
        "\n",
        "[10, 'hello', 3.14, True, [1, 2, 3], {'key': 'value'}]\n",
        "\n",
        "This flexibility makes lists very powerful, especially for dynamic data structures. However, mixing data types can sometimes make processing more"
      ],
      "metadata": {
        "id": "MdZcZ_0gBx0z"
      }
    },
    {
      "cell_type": "markdown",
      "source": [
        "ques 10. Explain why strings are immutable in Python?\n",
        "\n",
        "A string in Python is immutable, meaning it cannot be modified after creation. Any operation that appears to modify a string actually creates a new string instead of altering the original one.\n",
        "\n",
        "Reasons for String Immutability\n",
        "\n",
        "1. Memory Efficiency: Since strings are widely used, immutability allows Python to store repeated strings in the same memory location (string interning), reducing memory usage.\n",
        "\n",
        "\n",
        "2. Hashability: Immutable objects are hashable, meaning they can be used as dictionary keys or set elements. If strings were mutable, their hash values could change, making dictionary lookups unreliable.\n",
        "\n",
        "\n",
        "3. Security: Strings are often used to store sensitive data like passwords and database keys. Immutability prevents accidental or malicious modifications.\n",
        "\n",
        "\n",
        "4. Thread Safety: Since immutable objects cannot be modified, they can be safely shared across multiple threads without causing race conditions.\n",
        "\n",
        "\n",
        "5. Consistency: Operations like slicing or concatenation return a new string instead of modifying the existing one, ensuring predictable behavior.\n",
        "\n",
        "\n",
        "\n",
        "Example\n",
        "\n",
        "s = \"hello\"\n",
        "s[0] = \"H\"  # ❌ TypeError: 'str' object does not support item assignment\n",
        "\n",
        "# Instead, we create a new string\n",
        "new_s = \"H\" + s[1:]\n",
        "print(new_s)  # Output: \"Hello\"\n"
      ],
      "metadata": {
        "id": "Zg8BrtcjCeFd"
      }
    },
    {
      "cell_type": "markdown",
      "source": [
        "ques 11. What advantages do dictionaries offer over lists for certain tasks?\n",
        "\n",
        "Advantages of Dictionaries Over Lists in Python\n",
        "\n",
        "1. Faster Lookups (O(1) vs. O(n))\n",
        "\n",
        "Dictionaries use hash tables, allowing key-based lookups in constant time O(1).\n",
        "\n",
        "Lists require a linear search O(n) to find an element.\n",
        "\n",
        "Example: Retrieving a value from a dictionary is much faster than searching for an item in a list.\n",
        "\n",
        "\n",
        "\n",
        "2. Key-Value Pair Storage\n",
        "\n",
        "Dictionaries store data as key-value pairs, making them ideal for mapping relationships.\n",
        "\n",
        "Lists store only values, making it harder to associate related data efficiently.\n",
        "\n",
        "\n",
        "\n",
        "3. Unique Keys Prevent Duplicates\n",
        "\n",
        "Dictionary keys must be unique, preventing duplicate entries.\n",
        "\n",
        "Lists allow duplicates, which can lead to redundant data.\n",
        "\n",
        "\n",
        "\n",
        "4. Efficient Data Organization\n",
        "\n",
        "Dictionaries allow direct access to data using meaningful keys, improving readability.\n",
        "\n",
        "Lists rely on index-based access, which can be less intuitive.\n",
        "\n",
        "\n",
        "\n",
        "5. Better for Large Data Sets\n",
        "\n",
        "When handling large datasets, dictionaries are more efficient for searching and updating data.\n",
        "\n",
        "Lists become slower as they grow due to linear searches."
      ],
      "metadata": {
        "id": "y8jbBV47DA-Z"
      }
    },
    {
      "cell_type": "markdown",
      "source": [
        "ques 12. Describe a scenario where using a tuple would be preferable over a list?\n",
        "\n",
        "Scenario Where a Tuple is Preferable Over a List\n",
        "\n",
        "Storing Fixed Configuration Settings\n",
        "\n",
        "Imagine you are developing a web application where certain configuration settings (such as database credentials or API keys) must remain unchanged throughout the program's execution. Using a tuple instead of a list ensures that these values cannot be accidentally modified\n",
        "\n",
        "Why Use a Tuple Instead of a List?\n",
        "\n",
        "1. Data Integrity: Prevents accidental modifications to critical settings.\n",
        "\n",
        "\n",
        "2. Performance: Tuples are faster and use less memory than lists.\n",
        "\n",
        "\n",
        "3. Hashability: Tuples can be used as dictionary keys, unlike lists.\n",
        "\n",
        "\n",
        "4. Safety in Multi-Threading: Ensures thread-safe access to constant data.\n"
      ],
      "metadata": {
        "id": "DgrTw3iDHie9"
      }
    },
    {
      "cell_type": "markdown",
      "source": [
        "ques 13.How do sets handle duplicate values in Python?\n",
        "\n",
        " ans --> In Python, sets automatically remove duplicate values because they are implemented using a hash table. When an element is added to a set, Python checks its hash value to determine if it already exists. If the same value is added again, it is ignored, ensuring that each element in a set is unique."
      ],
      "metadata": {
        "id": "tEO38URFImV8"
      }
    },
    {
      "cell_type": "markdown",
      "source": [
        "ques 14. How does the “in” keyword work differently for lists and dictionaries?\n",
        "\n",
        "The in keyword is used to check for membership in both lists and dictionaries, but it works differently for each due to their underlying data structures.\n",
        "\n",
        "1. in with Lists (Linear Search - O(n))\n",
        "\n",
        "When checking if an element exists in a list, Python performs a linear search (O(n)).\n",
        "\n",
        "It scans each item one by one until it finds a match or reaches the end.\n",
        "\n",
        "\n",
        "Example: Checking Membership in a List\n",
        "\n",
        "my_list = [10, 20, 30, 40]\n",
        "print(20 in my_list)  # Output: True\n",
        "print(50 in my_list)  # Output: False\n",
        "\n",
        "Time Complexity: O(n) (Slower for large lists).\n",
        "\n",
        "2. in with Dictionaries (Hash Table Lookup - O(1))\n",
        "\n",
        "When checking if a key exists in a dictionary, Python uses a hash table for fast lookups (O(1) on average).\n",
        "\n",
        "The in keyword checks for the presence of keys, not values.\n",
        "\n",
        "\n",
        "Example: Checking Membership in a Dictionary\n",
        "\n",
        "my_dict = {\"name\": \"Alice\", \"age\": 25, \"city\": \"New York\"}\n",
        "print(\"name\" in my_dict)  # Output: True\n",
        "print(\"Alice\" in my_dict)  # Output: False (Values are not checked)\n",
        "\n",
        "Time Complexity: O(1) (Much faster than a lis\n",
        "\n",
        " Differences\n",
        "\n",
        "1. Lists check for values, while dictionaries check for keys.\n",
        "\n",
        "\n",
        "2. Lists perform a linear search (O(n)), whereas dictionaries use hashing (O(1)) for quick lookups.\n",
        "\n",
        "\n",
        "3. Dictionaries do not check values unless explicitly searched using .values().\n",
        "\n",
        "\n",
        "\n",
        "Checking Values in a Dictionary (Slower - O(n))\n",
        "\n",
        "print(\"Alice\" in my_dict.values())  # Output: True (O(n) search)"
      ],
      "metadata": {
        "id": "ApbSGvw8JRQ7"
      }
    },
    {
      "cell_type": "markdown",
      "source": [
        "ques 15.Can you modify the elements of a tuple? Explain why or why not?\n",
        "\n",
        "No, tuples are immutable in Python, meaning their elements cannot be modified after creation. Any attempt to change, add, or remove an element will result in a TypeError.\n",
        "\n",
        "Why Are Tuples Immutable?\n",
        "\n",
        "1. Memory Efficiency: Tuples use less memory since they do not need resizing.\n",
        "\n",
        "\n",
        "2. Data Integrity: Prevents accidental modifications, making them reliable for fixed data.\n",
        "\n",
        "\n",
        "3. Hashability: Tuples can be used as dictionary keys, unlike lists.\n",
        "\n",
        "\n",
        "4. Thread Safety: Ensures safe use in multi-threaded programs.\n"
      ],
      "metadata": {
        "id": "saC0Ra4qKMYn"
      }
    },
    {
      "cell_type": "markdown",
      "source": [
        "ques 16.What is a nested dictionary, and give an example of its use case?\n",
        "\n",
        "A nested dictionary is a dictionary where values can also be dictionaries. This allows data to be stored in a hierarchical structure, making it useful for representing complex relationships.\n",
        "\n",
        "Example of a Nested Dictionary\n",
        "\n",
        "students = {\n",
        "    \"Alice\": {\"age\": 25, \"grade\": \"A\", \"subjects\": [\"Math\", \"Science\"]},\n",
        "    \"Bob\": {\"age\": 22, \"grade\": \"B\", \"subjects\": [\"History\", \"English\"]}\n",
        "}\n",
        "\n",
        "print(students[\"Alice\"][\"grade\"])\n",
        " # Output: A\n",
        "print(students[\"Bob\"][\"subjects\"])\n",
        " # Output: ['History', 'English']\n",
        "\n",
        "Here, each student has their own dictionary containing details like age, grade, and subjects.\n",
        "\n",
        "Use Case: Storing Multiple Users’ Data\n",
        "\n",
        "A nested dictionary is useful when storing structured data, such as user profiles in a web application.\n",
        "\n",
        "Example: User Database in a Social Media App\n",
        "\n",
        "users = {\n",
        "    \"user_1\": {\"name\": \"Alice\", \"age\": 25, \"friends\": [\"Bob\", \"Charlie\"]},\n",
        "    \"user_2\": {\"name\": \"Bob\", \"age\": 22, \"friends\": [\"Alice\"]},\n",
        "}\n",
        "\n",
        "# Accessing user data\n",
        "print(users[\"user_1\"][\"name\"])  # Output: Alice\n",
        "print(users[\"user_1\"][\"friends\"])  # Output: ['Bob', 'Charlie']\n",
        "\n",
        "Why Use a Nested Dictionary?\n",
        "\n",
        "1. Organizes complex data efficiently\n",
        "2. Allows easy retrieval of related information\n",
        "3. Useful for JSON-like structured data"
      ],
      "metadata": {
        "id": "TgJtQUevLLaL"
      }
    },
    {
      "cell_type": "markdown",
      "source": [
        "ques 17.Describe the time complexity of accessing elements in a dictionary?\n",
        "\n",
        "In Python, dictionaries are implemented using hash tables, which allow for fast key-based lookups. The time complexity for accessing an element in a dictionary depends on whether the key is found and how Python handles collisions.\n",
        "\n",
        "Best and Average Case (O(1))\n",
        "\n",
        "Dictionary lookups use hashing, meaning Python computes a hash value for the key and directly finds its corresponding value in constant time O(1).\n",
        "\n",
        "This applies to operations like:\n",
        "\n",
        "my_dict = {\"name\": \"Amrita\", \"age\": 16}\n",
        "print(my_dict[\"name\"])  # O(1) lookup\n",
        "\n",
        "\n",
        "Worst Case (O(n))\n",
        "\n",
        "In rare cases, if many keys collide (i.e., they have the same hash), Python resolves it using collision handling techniques like open addressing or chaining.\n",
        "\n",
        "In extreme cases where all keys are stored in a single chain, searching may degrade to O(n) time complexity.\n",
        "\n",
        "\n",
        "Practical Complexity\n",
        "\n",
        "Dictionaries are optimized to maintain near O(1) performance even with a large number of elements.\n",
        "\n",
        "They are significantly faster than lists, which require O(n) time for lookups.\n",
        "\n"
      ],
      "metadata": {
        "id": "rCP5ZpI0MQ8b"
      }
    },
    {
      "cell_type": "markdown",
      "source": [
        "ques 18. In what situations are lists preferred over dictionaries?\n",
        "\n",
        "1. When Are Lists Preferred Over Dictionaries.\n",
        "\n",
        "2. When order matters (lists maintain sequence).\n",
        "\n",
        "3. When accessing by index (lists use position, dictionaries use keys).\n",
        "\n",
        "4. When storing simple data (like names or numbers without key-value pairs).\n",
        "\n",
        "5. When duplicates are allowed (dictionaries require unique keys).\n",
        "\n",
        "6. When memory efficiency is needed (lists use less memory for small data).\n",
        "\n",
        "When iterating over small datasets (lists are slightly faster than dictionaries).\n"
      ],
      "metadata": {
        "id": "WOsacFPdOst7"
      }
    },
    {
      "cell_type": "markdown",
      "source": [
        "ques 19.Why are dictionaries considered unordered, and how does that affect data retrieval?\n",
        "\n",
        "Dictionaries were historically considered unordered because they used hash tables to store key-value pairs. Instead of maintaining insertion order, Python stored elements in a way that optimized fast lookups.\n",
        "\n",
        "How Does This Affect Data Retrieval?\n",
        "\n",
        "1. Key-Based Access (O(1))\n",
        "\n",
        "Since dictionaries rely on hashing, data retrieval is extremely fast (O(1) time complexity).\n",
        "\n",
        "Unlike lists, dictionaries do not use indexing, so elements must be accessed by their keys instead of positions.\n",
        "\n",
        "2. No Sequential Access (Before Python 3.7)\n",
        "\n",
        "Before Python 3.7, iterating over a dictionary could return items in an unpredictable order.\n",
        "\n",
        "Example (Python 3.6 and earlier):\n",
        "\n",
        "my_dict = {\"b\": 2, \"a\": 1, \"c\": 3}\n",
        "print(my_dict)  # Output: {'b': 2, 'a': 1, 'c': 3} (random order)\n",
        "\n",
        "3. Affects Sorting\n",
        "\n",
        "Unlike lists, dictionaries cannot be directly sorted since they don’t have numerical indexes.\n",
        "\n",
        "You need to sort keys or values explicitly:\n",
        "\n",
        "sorted_dict = dict(sorted(my_dict.items()))  # Sorts by keys"
      ],
      "metadata": {
        "id": "m9pmYkspQOKC"
      }
    },
    {
      "cell_type": "markdown",
      "source": [
        "ques 20. Explain the difference between a list and a dictionary in terms of data retrieval.\n",
        "differences :-\n",
        "\n",
        "1. Data Retrieval in a List\n",
        "\n",
        "Lists use index-based access, meaning elements are retrieved by their position (starting from 0).\n",
        "\n",
        "Searching for an element requires a linear search (O(n)) unless you know the index.\n",
        "Example:\n",
        "\n",
        "my_list = [\"apple\", \"banana\", \"cherry\"]\n",
        "print(my_list[1])  # Output: banana (access by index)\n",
        "\n",
        "If the item is unknown, you need to search through the list:\n",
        "\n",
        "if \"banana\" in my_list:\n",
        "    print(\"Found\")  # Requires O(n) time\n",
        "2. Data Retrieval in a Dictionary\n",
        "\n",
        "Dictionaries use key-based access, allowing faster lookups (O(1) on average) using hashing.\n",
        "\n",
        "Unlike lists, they do not support numerical indexing.\n",
        "\n",
        "\n",
        "Example:\n",
        "\n",
        "my_dict = {\"fruit1\": \"apple\", \"fruit2\": \"banana\", \"fruit3\": \"cherry\"}\n",
        "print(my_dict[\"fruit2\"])  # Output: banana (access by key, O(1))\n",
        "\n",
        "Checking for an item is faster:\n",
        "\n",
        "if \"fruit2\" in my_dict:\n",
        "    print(\"Found\")  # O(1) lookup using hashing\n"
      ],
      "metadata": {
        "id": "34RhSJtzRM7P"
      }
    },
    {
      "cell_type": "markdown",
      "source": [
        "# **Pratical question :**-"
      ],
      "metadata": {
        "id": "j266w3m7Sp-V"
      }
    },
    {
      "cell_type": "code",
      "source": [
        "#  1. Write a code to create a string with your name and print it ?\n",
        "name= input (\"enter your name :\")\n",
        "print (\"your name is \", name)"
      ],
      "metadata": {
        "colab": {
          "base_uri": "https://localhost:8080/"
        },
        "id": "3nbkbbS9DY-i",
        "outputId": "07613f61-26df-4ef5-fddc-84ce481f81db"
      },
      "execution_count": null,
      "outputs": [
        {
          "output_type": "stream",
          "name": "stdout",
          "text": [
            "enter your name :Amrita\n",
            "your name is  Amrita\n"
          ]
        }
      ]
    },
    {
      "cell_type": "code",
      "source": [
        " # 2. Write a code to find the length of the string \"Hello World\".\n",
        " a= \"hello world\"\n",
        " len(a)"
      ],
      "metadata": {
        "colab": {
          "base_uri": "https://localhost:8080/"
        },
        "id": "u1H_dInAEfDy",
        "outputId": "cf18daed-8080-4851-b7b2-215859e6e98e"
      },
      "execution_count": null,
      "outputs": [
        {
          "output_type": "execute_result",
          "data": {
            "text/plain": [
              "11"
            ]
          },
          "metadata": {},
          "execution_count": 4
        }
      ]
    },
    {
      "cell_type": "code",
      "source": [
        " # 3. Write a code to slice the first 3 characters from the string \"Python Programming\".\n",
        " text =\"python programming\"\n",
        " sliced_text=text[:3]\n",
        " print (sliced_text)"
      ],
      "metadata": {
        "colab": {
          "base_uri": "https://localhost:8080/"
        },
        "id": "wNVQujweE85i",
        "outputId": "07cd4cf9-f645-4265-9259-55f8e0d7b5d7"
      },
      "execution_count": null,
      "outputs": [
        {
          "output_type": "stream",
          "name": "stdout",
          "text": [
            "pyt\n"
          ]
        }
      ]
    },
    {
      "cell_type": "code",
      "source": [
        " # 4. Write a code to convert the string \"hello\" to uppercase.\n",
        " text =\"hello world\"\n",
        " uppercase_text=text.upper()\n",
        " print(uppercase_text)\n"
      ],
      "metadata": {
        "colab": {
          "base_uri": "https://localhost:8080/"
        },
        "id": "HkmxaotyF1AZ",
        "outputId": "102613a7-2b24-49e9-ce6a-9b6b27684245"
      },
      "execution_count": null,
      "outputs": [
        {
          "output_type": "stream",
          "name": "stdout",
          "text": [
            "HELLO WORLD\n"
          ]
        }
      ]
    },
    {
      "cell_type": "code",
      "source": [
        " # 5. Write a code to replace the word \"apple\" with \"orange\" in the string \"I like apple\".\n",
        "\n",
        "text = \"i like apple\"\n",
        "new_text=text.replace(\"apple\",\"orange\")\n",
        "print (new_text)"
      ],
      "metadata": {
        "colab": {
          "base_uri": "https://localhost:8080/"
        },
        "id": "JIQtvHNkHGy8",
        "outputId": "98636fcb-c051-4d26-b0e9-ac52c58c03ae"
      },
      "execution_count": null,
      "outputs": [
        {
          "output_type": "stream",
          "name": "stdout",
          "text": [
            "i like orange\n"
          ]
        }
      ]
    },
    {
      "cell_type": "code",
      "source": [
        " # 6. Write a code to create a list with numbers 1 to 5 and print it.\n",
        " number= [1, 2, 3, 4, 5]  # Creating a list with numbers 1 to 5\n",
        "print(number)"
      ],
      "metadata": {
        "colab": {
          "base_uri": "https://localhost:8080/"
        },
        "id": "HkzSdtTGIUZ4",
        "outputId": "b8d865fa-bc19-4101-acfa-48db37098ba1"
      },
      "execution_count": null,
      "outputs": [
        {
          "output_type": "stream",
          "name": "stdout",
          "text": [
            "[1, 2, 3, 4, 5]\n"
          ]
        }
      ]
    },
    {
      "cell_type": "code",
      "source": [
        " # 7. Write a code to append the number 10 to the list [1, 2, 3, 4].\n",
        "numbers=[1,2,3,4]\n",
        "numbers.append(10)\n",
        "print(numbers)\n"
      ],
      "metadata": {
        "colab": {
          "base_uri": "https://localhost:8080/"
        },
        "id": "oT8hniPYJPAh",
        "outputId": "11d6367d-eab3-40ba-ffef-29d3f54e2632"
      },
      "execution_count": null,
      "outputs": [
        {
          "output_type": "stream",
          "name": "stdout",
          "text": [
            "[1, 2, 3, 4, 10]\n"
          ]
        }
      ]
    },
    {
      "cell_type": "code",
      "source": [
        " # 8. Write a code to remove the number 3 from the list [1, 2, 3, 4, 5].\n",
        " numbers=[1,2,3,4,5]\n",
        " numbers.remove(3)\n",
        " print (numbers)"
      ],
      "metadata": {
        "colab": {
          "base_uri": "https://localhost:8080/"
        },
        "id": "cxMKutsyLMnF",
        "outputId": "246a91ab-59db-4cf4-cf3c-e8050f939237"
      },
      "execution_count": null,
      "outputs": [
        {
          "output_type": "stream",
          "name": "stdout",
          "text": [
            "[1, 2, 4, 5]\n"
          ]
        }
      ]
    },
    {
      "cell_type": "code",
      "source": [
        " # 9. Write a code to access the second element in the list ['a', 'b', 'c', 'd']\n",
        " letters = ['a', 'b', 'c', 'd']\n",
        "second_element = letters[1]  # Indexing starts from 0, so index 1 gives the second element\n",
        "print(second_element)"
      ],
      "metadata": {
        "colab": {
          "base_uri": "https://localhost:8080/"
        },
        "id": "RnKcJnJPMGMy",
        "outputId": "1ef64b40-ebc1-4869-be53-9fed294c2037"
      },
      "execution_count": null,
      "outputs": [
        {
          "output_type": "stream",
          "name": "stdout",
          "text": [
            "b\n"
          ]
        }
      ]
    },
    {
      "cell_type": "code",
      "source": [
        "# 10. Write a code to reverse the list [10, 20, 30, 40, 50]\n",
        "numbers = [10, 20, 30, 40]\n",
        "numbers.reverse()  # Reverse the list in place\n",
        "print(numbers)\n"
      ],
      "metadata": {
        "colab": {
          "base_uri": "https://localhost:8080/"
        },
        "id": "irrj1w0fNC97",
        "outputId": "ff0c344d-e801-4537-c915-7ec40dd81190"
      },
      "execution_count": null,
      "outputs": [
        {
          "output_type": "stream",
          "name": "stdout",
          "text": [
            "[40, 30, 20, 10]\n"
          ]
        }
      ]
    },
    {
      "cell_type": "code",
      "source": [
        "  # 11. Write a code to create a tuple with the elements 100, 200, 300 and print it.\n",
        "numbers = (100, 200, 300)  # Creating a tuple\n",
        "print(numbers)"
      ],
      "metadata": {
        "colab": {
          "base_uri": "https://localhost:8080/"
        },
        "id": "hufI6VOGNnlf",
        "outputId": "7b9424e1-9582-46e6-cc4d-f4d49d0c021f"
      },
      "execution_count": null,
      "outputs": [
        {
          "output_type": "stream",
          "name": "stdout",
          "text": [
            "(100, 200, 300)\n"
          ]
        }
      ]
    },
    {
      "cell_type": "code",
      "source": [
        "# 12.Write a code to access the second-to-last element of the tuple ('red', 'green', 'blue', 'yellow').\n",
        "colors = ('red', 'green', 'blue', 'yellow')\n",
        "second_last = colors[-2]  # Using negative indexing to access the second-to-last element\n",
        "print(second_last)"
      ],
      "metadata": {
        "colab": {
          "base_uri": "https://localhost:8080/"
        },
        "id": "ZpxcAvwBOIpi",
        "outputId": "ea3c6262-8977-4366-bc73-d6730cbfdc86"
      },
      "execution_count": null,
      "outputs": [
        {
          "output_type": "stream",
          "name": "stdout",
          "text": [
            "blue\n"
          ]
        }
      ]
    },
    {
      "cell_type": "code",
      "source": [
        "# 13. Write a code to find the minimum number in the tuple (10, 20, 5, 15).\n",
        "numbers = (10, 20, 5, 15)\n",
        "min_number = min(numbers)  # Using the min() function to find the smallest number\n",
        "print(min_number)"
      ],
      "metadata": {
        "colab": {
          "base_uri": "https://localhost:8080/"
        },
        "id": "QgnZ7IEwowS7",
        "outputId": "e6f5c2d7-dd50-4cf6-e77a-a1e27818a082"
      },
      "execution_count": 1,
      "outputs": [
        {
          "output_type": "stream",
          "name": "stdout",
          "text": [
            "5\n"
          ]
        }
      ]
    },
    {
      "cell_type": "code",
      "source": [
        "# 14.  Write a code to find the index of the element \"cat\" in the tuple ('dog', 'cat', 'rabbit').\n",
        "numbers = (10, 20, 5, 15)\n",
        "min_number = min(numbers)  # Using the min() function to find the smallest number\n",
        "print(min_number)"
      ],
      "metadata": {
        "colab": {
          "base_uri": "https://localhost:8080/"
        },
        "id": "94WSbPHWqa8P",
        "outputId": "0176ecdb-5704-4bf6-ac20-e8c857fc2851"
      },
      "execution_count": 2,
      "outputs": [
        {
          "output_type": "stream",
          "name": "stdout",
          "text": [
            "5\n"
          ]
        }
      ]
    },
    {
      "cell_type": "code",
      "source": [
        "# 15.  Write a code to create a tuple containing three different fruits and check if \"kiwi\" is in it.\n",
        "fruits = (\"apple\", \"banana\", \"mango\")\n",
        "if \"kiwi\" in fruits:\n",
        "    print(\"Kiwi is in the tuple.\")\n",
        "else:\n",
        "    print(\"Kiwi is not in the tuple.\")"
      ],
      "metadata": {
        "colab": {
          "base_uri": "https://localhost:8080/"
        },
        "id": "vNXzsftlrA2M",
        "outputId": "90c87de4-f8c7-4b72-97aa-61348fe6620c"
      },
      "execution_count": 3,
      "outputs": [
        {
          "output_type": "stream",
          "name": "stdout",
          "text": [
            "Kiwi is not in the tuple.\n"
          ]
        }
      ]
    },
    {
      "cell_type": "code",
      "source": [
        "  # 16. Write a code to create a set with the elements 'a', 'b', 'c' and print it\n",
        "  my_set ={'a', 'b', 'c'}  # Creating a set\n",
        "print(my_set)"
      ],
      "metadata": {
        "colab": {
          "base_uri": "https://localhost:8080/"
        },
        "id": "xNRnWBQXroaj",
        "outputId": "6fbde3f7-4357-4939-b9a5-8435b5d787a6"
      },
      "execution_count": 4,
      "outputs": [
        {
          "output_type": "stream",
          "name": "stdout",
          "text": [
            "{'b', 'a', 'c'}\n"
          ]
        }
      ]
    },
    {
      "cell_type": "code",
      "source": [
        "# 17. Write a code to clear all elements from the set {1, 2, 3, 4, 5}\n",
        "my_set = {1, 2, 3, 4, 5}\n",
        "my_set.clear()\n",
        "print(my_set)"
      ],
      "metadata": {
        "colab": {
          "base_uri": "https://localhost:8080/"
        },
        "id": "akQ9Rj3hsM2Z",
        "outputId": "5aaca0a3-095a-4753-c17f-aafca0d5d831"
      },
      "execution_count": 5,
      "outputs": [
        {
          "output_type": "stream",
          "name": "stdout",
          "text": [
            "set()\n"
          ]
        }
      ]
    },
    {
      "cell_type": "code",
      "source": [
        "# 18.  Write a code to remove the element 4 from the set {1, 2, 3, 4}.\n",
        "\n",
        "my_set = {1, 2, 3, 4}\n",
        "my_set.remove(4)\n",
        "print(my_set)"
      ],
      "metadata": {
        "colab": {
          "base_uri": "https://localhost:8080/"
        },
        "id": "O67jYiYZsuRp",
        "outputId": "f40462e3-1510-4ed3-c5fb-f22856ee978b"
      },
      "execution_count": 6,
      "outputs": [
        {
          "output_type": "stream",
          "name": "stdout",
          "text": [
            "{1, 2, 3}\n"
          ]
        }
      ]
    },
    {
      "cell_type": "code",
      "source": [
        "# 19.  Write a code to find the union of two sets {1, 2, 3} and {3, 4, 5}.\n",
        "set1 = {1, 2, 3}\n",
        "set2 = {3, 4, 5}\n",
        "\n",
        "union_set = set1.union(set2)\n",
        "print(union_set)"
      ],
      "metadata": {
        "colab": {
          "base_uri": "https://localhost:8080/"
        },
        "id": "WcKVAeI4tNTt",
        "outputId": "11d3d2f6-4904-4269-b934-67b8f6600a80"
      },
      "execution_count": 7,
      "outputs": [
        {
          "output_type": "stream",
          "name": "stdout",
          "text": [
            "{1, 2, 3, 4, 5}\n"
          ]
        }
      ]
    },
    {
      "cell_type": "code",
      "source": [
        "# 20. Write a code to find the intersection of two sets {1, 2, 3} and {2, 3, 4}.\n",
        "set1 = {1, 2, 3}\n",
        "set2 = {2, 3, 4}\n",
        "\n",
        "intersection_set = set1.intersection(set2)  # Finding the common elements\n",
        "print(intersection_set)"
      ],
      "metadata": {
        "colab": {
          "base_uri": "https://localhost:8080/"
        },
        "id": "yTLEpddquBlK",
        "outputId": "88f1a6d3-1c97-42e1-f4be-0470da91c5d0"
      },
      "execution_count": 8,
      "outputs": [
        {
          "output_type": "stream",
          "name": "stdout",
          "text": [
            "{2, 3}\n"
          ]
        }
      ]
    },
    {
      "cell_type": "code",
      "source": [
        "  # 21. Write a code to create a dictionary with the keys \"name\", \"age\", and \"city\", and print it.\n",
        "  person = {\n",
        "    \"name\": \"amrita\",\n",
        "    \"age\": 16,\n",
        "    \"city\": \"new delhi\"\n",
        "}\n",
        "print(person)"
      ],
      "metadata": {
        "colab": {
          "base_uri": "https://localhost:8080/"
        },
        "id": "9NgRHOMTultO",
        "outputId": "a5f1bcba-efb4-4cce-ab2f-e35c120a9bf9"
      },
      "execution_count": 9,
      "outputs": [
        {
          "output_type": "stream",
          "name": "stdout",
          "text": [
            "{'name': 'amrita', 'age': 16, 'city': 'new delhi'}\n"
          ]
        }
      ]
    },
    {
      "cell_type": "code",
      "source": [
        "# 22. Write a code to add a new key-value pair \"country\": \"USA\" to the dictionary {'name': 'John', 'age': 25}\n",
        "person = {\"name\": \"John\", \"age\": 25}  # Creating the dictionary\n",
        "\n",
        "person[\"country\"] = \"USA\"  # Adding a new key-value pair\n",
        "\n",
        "print(person)  # Printing the updated dictionary"
      ],
      "metadata": {
        "colab": {
          "base_uri": "https://localhost:8080/"
        },
        "id": "brPLxSeKvRaj",
        "outputId": "2dcf23af-ea2f-47aa-c38c-b23554cd85f7"
      },
      "execution_count": 10,
      "outputs": [
        {
          "output_type": "stream",
          "name": "stdout",
          "text": [
            "{'name': 'John', 'age': 25, 'country': 'USA'}\n"
          ]
        }
      ]
    },
    {
      "cell_type": "code",
      "source": [
        "# 23.  Write a code to access the value associated with the key \"name\" in the dictionary {'name': 'Alice', 'age': 30}.\n",
        "person = {\"name\": \"Alice\", \"agr\": 30}\n",
        "\n",
        "name_value = person[\"name\"]\n",
        "print(name_value)"
      ],
      "metadata": {
        "colab": {
          "base_uri": "https://localhost:8080/"
        },
        "id": "R_Z-enBmv9bM",
        "outputId": "db7a1286-51d6-41fb-c1be-2af5a623420e"
      },
      "execution_count": 11,
      "outputs": [
        {
          "output_type": "stream",
          "name": "stdout",
          "text": [
            "Alice\n"
          ]
        }
      ]
    },
    {
      "cell_type": "code",
      "source": [
        "# 24. Write a code to remove the key \"age\" from the dictionary {'name': 'Bob', 'age': 22, 'city': 'New York'}.\n",
        "person = {\"name\": \"Bob\", \"age\": 22, \"city\": \"New York\"}  # Creating the dictionary\n",
        "\n",
        "person.pop(\"age\")  # Removing the key \"age\"\n",
        "\n",
        "print(person)  # Printing the updated dictionary"
      ],
      "metadata": {
        "colab": {
          "base_uri": "https://localhost:8080/"
        },
        "id": "C1_uu76EwmEJ",
        "outputId": "948aac16-112e-4c8f-ba5b-5ae5f65f5cfe"
      },
      "execution_count": 12,
      "outputs": [
        {
          "output_type": "stream",
          "name": "stdout",
          "text": [
            "{'name': 'Bob', 'city': 'New York'}\n"
          ]
        }
      ]
    },
    {
      "cell_type": "code",
      "source": [
        "# 25. Write a code to check if the key \"city\" exists in the dictionary {'name': 'Alice', 'city': 'Paris'}.\n",
        "person = {\"name\": \"Alice\", \"city\": \"Paris\"}\n",
        "\n",
        "if \"city\" in person:  # Checking if \"city\" key exists\n",
        "    print(\"The key 'city' exists in the dictionary.\")\n",
        "else:\n",
        "    print(\"The key 'city' does not exist in the dictionary.\")"
      ],
      "metadata": {
        "colab": {
          "base_uri": "https://localhost:8080/"
        },
        "id": "EZKI5J0QxWJn",
        "outputId": "aadd0e93-f76f-457f-992f-db7e88c7258f"
      },
      "execution_count": 13,
      "outputs": [
        {
          "output_type": "stream",
          "name": "stdout",
          "text": [
            "The key 'city' exists in the dictionary.\n"
          ]
        }
      ]
    },
    {
      "cell_type": "code",
      "source": [
        "# 26. Write a code to create a list, a tuple, and a dictionary, and print them all.\n",
        "my_list = [1, 2, 3, 4, 5]\n",
        "my_tuple = (\"apple\", \"banana\", \"cherry\")\n",
        "my_dict = {\"name\": \"Alice\", \"age\": 25, \"city\": \"Paris\"}\n",
        "\n",
        "# Printing all data structures\n",
        "print(\"List:\", my_list)\n",
        "print(\"Tuple:\", my_tuple)\n",
        "print(\"Dictionary:\", my_dict)"
      ],
      "metadata": {
        "colab": {
          "base_uri": "https://localhost:8080/"
        },
        "id": "dwNDAcELyBma",
        "outputId": "745cb15e-fe1f-4414-89c6-9309cbed74d0"
      },
      "execution_count": 14,
      "outputs": [
        {
          "output_type": "stream",
          "name": "stdout",
          "text": [
            "List: [1, 2, 3, 4, 5]\n",
            "Tuple: ('apple', 'banana', 'cherry')\n",
            "Dictionary: {'name': 'Alice', 'age': 25, 'city': 'Paris'}\n"
          ]
        }
      ]
    },
    {
      "cell_type": "code",
      "source": [
        "# 27.Write a code to create a list of 5 random numbers between 1 and 100, sort it in ascending order, and print the\n",
        " # result.(replaced)\n",
        "import random\n",
        "\n",
        "# Generating a list of 5 random numbers between 1 and 100\n",
        "random_numbers = [random.randint(1, 100) for _ in range(5)]\n",
        "\n",
        "# Sorting the list in ascending order\n",
        "random_numbers.sort()\n",
        "\n",
        "# Printing the sorted list\n",
        "print(\"Sorted random numbers:\", random_numbers)\n"
      ],
      "metadata": {
        "colab": {
          "base_uri": "https://localhost:8080/"
        },
        "id": "puaGchHZyghv",
        "outputId": "7e56f7be-aab2-4fe6-b245-286b7fc6f5b4"
      },
      "execution_count": 16,
      "outputs": [
        {
          "output_type": "stream",
          "name": "stdout",
          "text": [
            "Sorted random numbers: [17, 28, 50, 62, 90]\n"
          ]
        }
      ]
    },
    {
      "cell_type": "code",
      "source": [
        "# 28. Write a code to create a list with strings and print the element at the third index.\n",
        "# Creating a list with strings\n",
        "my_list = [\"apple\", \"banana\", \"cherry\", \"date\", \"elderberry\"]\n",
        "\n",
        "# Accessing the element at the third index (index 3)\n",
        "third_index_element = my_list[3]\n",
        "print(\"Element at index 3:\", third_index_element)"
      ],
      "metadata": {
        "colab": {
          "base_uri": "https://localhost:8080/"
        },
        "id": "8ZrTM8dl0AGB",
        "outputId": "d289924c-f09e-494c-96c6-87bd78a4ab1b"
      },
      "execution_count": 17,
      "outputs": [
        {
          "output_type": "stream",
          "name": "stdout",
          "text": [
            "Element at index 3: date\n"
          ]
        }
      ]
    },
    {
      "cell_type": "code",
      "source": [
        "# 29. Write a code to combine two dictionaries into one and print the result.\n",
        "# Creating two dictionaries\n",
        "dict1 = {\"name\": \"Alice\", \"age\": 25}\n",
        "dict2 = {\"city\": \"Paris\", \"country\": \"France\"}\n",
        "\n",
        "# Merging dictionaries\n",
        "dict1.update(dict2)  # dict1 now contains all key-value pairs from dict2\n",
        "print(\"Combined Dictionary:\", dict1)"
      ],
      "metadata": {
        "colab": {
          "base_uri": "https://localhost:8080/"
        },
        "id": "pcKmuUEu0d5I",
        "outputId": "27b090e8-4f7c-44cf-eeb2-76d6ab92e63c"
      },
      "execution_count": 18,
      "outputs": [
        {
          "output_type": "stream",
          "name": "stdout",
          "text": [
            "Combined Dictionary: {'name': 'Alice', 'age': 25, 'city': 'Paris', 'country': 'France'}\n"
          ]
        }
      ]
    },
    {
      "cell_type": "code",
      "source": [
        "# 30.Write a code to convert a list of strings into a set.\n",
        "# Creating a list of strings\n",
        "my_list = [\"apple\", \"banana\", \"cherry\", \"apple\", \"banana\"]\n",
        "\n",
        "# Converting the list into a set\n",
        "my_set = set(my_list)\n",
        "\n",
        "# Printing the set\n",
        "print(\"Set:\", my_set)"
      ],
      "metadata": {
        "colab": {
          "base_uri": "https://localhost:8080/"
        },
        "id": "2SqOkB5Z09OA",
        "outputId": "652f13a6-3011-4252-9aed-de988ab3ab75"
      },
      "execution_count": 19,
      "outputs": [
        {
          "output_type": "stream",
          "name": "stdout",
          "text": [
            "Set: {'apple', 'cherry', 'banana'}\n"
          ]
        }
      ]
    }
  ]
}